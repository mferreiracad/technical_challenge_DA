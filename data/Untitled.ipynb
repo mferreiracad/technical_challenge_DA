{
 "cells": [
  {
   "cell_type": "code",
   "execution_count": 267,
   "id": "7b298bba",
   "metadata": {},
   "outputs": [],
   "source": [
    "import pandas as pd\n",
    "import numpy as np\n",
    "import matplotlib.pyplot as plt\n",
    "from bs4 import BeautifulSoup\n",
    "import requests\n",
    "import seaborn as sns\n",
    "from sklearn.utils import resample\n",
    "from scipy.stats import ttest_ind\n",
    "from sklearn.model_selection import train_test_split\n",
    "from sklearn.preprocessing import MinMaxScaler\n",
    "from sklearn.ensemble import RandomForestClassifier\n",
    "from sklearn.neighbors import KNeighborsRegressor"
   ]
  },
  {
   "cell_type": "code",
   "execution_count": 268,
   "id": "a7150591",
   "metadata": {},
   "outputs": [],
   "source": [
    "data1= pd.read_csv('measurements.csv')"
   ]
  },
  {
   "cell_type": "code",
   "execution_count": 269,
   "id": "77dac2f6",
   "metadata": {},
   "outputs": [],
   "source": [
    "data2=pd.read_excel('measurements2.xlsx')"
   ]
  },
  {
   "cell_type": "code",
   "execution_count": 270,
   "id": "15e53db0",
   "metadata": {},
   "outputs": [
    {
     "name": "stdout",
     "output_type": "stream",
     "text": [
      "distance 0\n",
      "consume 0\n",
      "speed 0\n",
      "temp_inside 12\n",
      "temp_outside 0\n",
      "specials 295\n",
      "gas_type 0\n",
      "AC 0\n",
      "rain 0\n",
      "sun 0\n",
      "refill liters 375\n",
      "refill gas 375\n"
     ]
    }
   ],
   "source": [
    "for x in data1.columns:\n",
    "    print(x, data1[x].isna().sum())"
   ]
  },
  {
   "cell_type": "code",
   "execution_count": 271,
   "id": "ee5bd6dc",
   "metadata": {},
   "outputs": [
    {
     "name": "stdout",
     "output_type": "stream",
     "text": [
      "distance 0\n",
      "consume 0\n",
      "speed 0\n",
      "temp_inside 12\n",
      "temp_outside 0\n",
      "specials 295\n",
      "gas_type 0\n",
      "AC 0\n",
      "rain 0\n",
      "sun 0\n",
      "refill liters 375\n",
      "refill gas 375\n"
     ]
    }
   ],
   "source": [
    "for x in data2.columns:\n",
    "    print(x, data2[x].isna().sum())"
   ]
  },
  {
   "cell_type": "code",
   "execution_count": 272,
   "id": "73fae700",
   "metadata": {
    "scrolled": true
   },
   "outputs": [
    {
     "data": {
      "text/plain": [
       "(388, 12)"
      ]
     },
     "execution_count": 272,
     "metadata": {},
     "output_type": "execute_result"
    }
   ],
   "source": [
    "data1.shape"
   ]
  },
  {
   "cell_type": "code",
   "execution_count": 273,
   "id": "275c9d2e",
   "metadata": {},
   "outputs": [
    {
     "data": {
      "text/plain": [
       "(388, 12)"
      ]
     },
     "execution_count": 273,
     "metadata": {},
     "output_type": "execute_result"
    }
   ],
   "source": [
    "data2.shape"
   ]
  },
  {
   "cell_type": "code",
   "execution_count": 274,
   "id": "79b414fe",
   "metadata": {},
   "outputs": [
    {
     "data": {
      "text/html": [
       "<div>\n",
       "<style scoped>\n",
       "    .dataframe tbody tr th:only-of-type {\n",
       "        vertical-align: middle;\n",
       "    }\n",
       "\n",
       "    .dataframe tbody tr th {\n",
       "        vertical-align: top;\n",
       "    }\n",
       "\n",
       "    .dataframe thead th {\n",
       "        text-align: right;\n",
       "    }\n",
       "</style>\n",
       "<table border=\"1\" class=\"dataframe\">\n",
       "  <thead>\n",
       "    <tr style=\"text-align: right;\">\n",
       "      <th></th>\n",
       "      <th>distance</th>\n",
       "      <th>consume</th>\n",
       "      <th>speed</th>\n",
       "      <th>temp_inside</th>\n",
       "      <th>temp_outside</th>\n",
       "      <th>specials</th>\n",
       "      <th>gas_type</th>\n",
       "      <th>AC</th>\n",
       "      <th>rain</th>\n",
       "      <th>sun</th>\n",
       "      <th>refill liters</th>\n",
       "      <th>refill gas</th>\n",
       "    </tr>\n",
       "  </thead>\n",
       "  <tbody>\n",
       "    <tr>\n",
       "      <th>0</th>\n",
       "      <td>28.0</td>\n",
       "      <td>5.0</td>\n",
       "      <td>26</td>\n",
       "      <td>21.5</td>\n",
       "      <td>12</td>\n",
       "      <td>NaN</td>\n",
       "      <td>E10</td>\n",
       "      <td>0</td>\n",
       "      <td>0</td>\n",
       "      <td>0</td>\n",
       "      <td>45.0</td>\n",
       "      <td>E10</td>\n",
       "    </tr>\n",
       "    <tr>\n",
       "      <th>44</th>\n",
       "      <td>5.4</td>\n",
       "      <td>3.3</td>\n",
       "      <td>32</td>\n",
       "      <td>21.5</td>\n",
       "      <td>7</td>\n",
       "      <td>NaN</td>\n",
       "      <td>SP98</td>\n",
       "      <td>0</td>\n",
       "      <td>0</td>\n",
       "      <td>0</td>\n",
       "      <td>37.6</td>\n",
       "      <td>SP98</td>\n",
       "    </tr>\n",
       "    <tr>\n",
       "      <th>82</th>\n",
       "      <td>10.5</td>\n",
       "      <td>3.6</td>\n",
       "      <td>42</td>\n",
       "      <td>20.0</td>\n",
       "      <td>10</td>\n",
       "      <td>NaN</td>\n",
       "      <td>SP98</td>\n",
       "      <td>0</td>\n",
       "      <td>0</td>\n",
       "      <td>0</td>\n",
       "      <td>37.7</td>\n",
       "      <td>SP98</td>\n",
       "    </tr>\n",
       "    <tr>\n",
       "      <th>106</th>\n",
       "      <td>162.7</td>\n",
       "      <td>5.5</td>\n",
       "      <td>75</td>\n",
       "      <td>23.0</td>\n",
       "      <td>1</td>\n",
       "      <td>NaN</td>\n",
       "      <td>SP98</td>\n",
       "      <td>0</td>\n",
       "      <td>0</td>\n",
       "      <td>0</td>\n",
       "      <td>45.0</td>\n",
       "      <td>SP98</td>\n",
       "    </tr>\n",
       "    <tr>\n",
       "      <th>139</th>\n",
       "      <td>16.1</td>\n",
       "      <td>5.4</td>\n",
       "      <td>24</td>\n",
       "      <td>21.5</td>\n",
       "      <td>7</td>\n",
       "      <td>rain</td>\n",
       "      <td>E10</td>\n",
       "      <td>0</td>\n",
       "      <td>1</td>\n",
       "      <td>0</td>\n",
       "      <td>38.0</td>\n",
       "      <td>E10</td>\n",
       "    </tr>\n",
       "    <tr>\n",
       "      <th>171</th>\n",
       "      <td>44.4</td>\n",
       "      <td>4.8</td>\n",
       "      <td>38</td>\n",
       "      <td>21.5</td>\n",
       "      <td>8</td>\n",
       "      <td>NaN</td>\n",
       "      <td>E10</td>\n",
       "      <td>0</td>\n",
       "      <td>0</td>\n",
       "      <td>0</td>\n",
       "      <td>38.3</td>\n",
       "      <td>E10</td>\n",
       "    </tr>\n",
       "    <tr>\n",
       "      <th>191</th>\n",
       "      <td>43.7</td>\n",
       "      <td>4.7</td>\n",
       "      <td>44</td>\n",
       "      <td>22.0</td>\n",
       "      <td>9</td>\n",
       "      <td>half rain half sun</td>\n",
       "      <td>SP98</td>\n",
       "      <td>0</td>\n",
       "      <td>1</td>\n",
       "      <td>0</td>\n",
       "      <td>10.0</td>\n",
       "      <td>SP98</td>\n",
       "    </tr>\n",
       "    <tr>\n",
       "      <th>192</th>\n",
       "      <td>12.1</td>\n",
       "      <td>4.2</td>\n",
       "      <td>43</td>\n",
       "      <td>22.0</td>\n",
       "      <td>4</td>\n",
       "      <td>NaN</td>\n",
       "      <td>SP98</td>\n",
       "      <td>0</td>\n",
       "      <td>0</td>\n",
       "      <td>0</td>\n",
       "      <td>39.0</td>\n",
       "      <td>SP98</td>\n",
       "    </tr>\n",
       "    <tr>\n",
       "      <th>234</th>\n",
       "      <td>19.0</td>\n",
       "      <td>4.5</td>\n",
       "      <td>29</td>\n",
       "      <td>22.5</td>\n",
       "      <td>10</td>\n",
       "      <td>NaN</td>\n",
       "      <td>E10</td>\n",
       "      <td>0</td>\n",
       "      <td>0</td>\n",
       "      <td>0</td>\n",
       "      <td>39.0</td>\n",
       "      <td>E10</td>\n",
       "    </tr>\n",
       "    <tr>\n",
       "      <th>274</th>\n",
       "      <td>25.7</td>\n",
       "      <td>4.9</td>\n",
       "      <td>50</td>\n",
       "      <td>22.0</td>\n",
       "      <td>10</td>\n",
       "      <td>rain</td>\n",
       "      <td>SP98</td>\n",
       "      <td>0</td>\n",
       "      <td>1</td>\n",
       "      <td>0</td>\n",
       "      <td>41.0</td>\n",
       "      <td>SP98</td>\n",
       "    </tr>\n",
       "    <tr>\n",
       "      <th>313</th>\n",
       "      <td>11.3</td>\n",
       "      <td>4.3</td>\n",
       "      <td>38</td>\n",
       "      <td>22.0</td>\n",
       "      <td>17</td>\n",
       "      <td>NaN</td>\n",
       "      <td>SP98</td>\n",
       "      <td>0</td>\n",
       "      <td>0</td>\n",
       "      <td>0</td>\n",
       "      <td>37.0</td>\n",
       "      <td>SP98</td>\n",
       "    </tr>\n",
       "    <tr>\n",
       "      <th>325</th>\n",
       "      <td>16.6</td>\n",
       "      <td>3.7</td>\n",
       "      <td>49</td>\n",
       "      <td>22.0</td>\n",
       "      <td>17</td>\n",
       "      <td>NaN</td>\n",
       "      <td>E10</td>\n",
       "      <td>0</td>\n",
       "      <td>0</td>\n",
       "      <td>0</td>\n",
       "      <td>37.7</td>\n",
       "      <td>E10</td>\n",
       "    </tr>\n",
       "    <tr>\n",
       "      <th>349</th>\n",
       "      <td>18.3</td>\n",
       "      <td>4.3</td>\n",
       "      <td>46</td>\n",
       "      <td>22.0</td>\n",
       "      <td>16</td>\n",
       "      <td>NaN</td>\n",
       "      <td>SP98</td>\n",
       "      <td>0</td>\n",
       "      <td>0</td>\n",
       "      <td>0</td>\n",
       "      <td>37.2</td>\n",
       "      <td>SP98</td>\n",
       "    </tr>\n",
       "  </tbody>\n",
       "</table>\n",
       "</div>"
      ],
      "text/plain": [
       "     distance  consume  speed  temp_inside  temp_outside            specials  \\\n",
       "0        28.0      5.0     26         21.5            12                 NaN   \n",
       "44        5.4      3.3     32         21.5             7                 NaN   \n",
       "82       10.5      3.6     42         20.0            10                 NaN   \n",
       "106     162.7      5.5     75         23.0             1                 NaN   \n",
       "139      16.1      5.4     24         21.5             7                rain   \n",
       "171      44.4      4.8     38         21.5             8                 NaN   \n",
       "191      43.7      4.7     44         22.0             9  half rain half sun   \n",
       "192      12.1      4.2     43         22.0             4                 NaN   \n",
       "234      19.0      4.5     29         22.5            10                 NaN   \n",
       "274      25.7      4.9     50         22.0            10                rain   \n",
       "313      11.3      4.3     38         22.0            17                 NaN   \n",
       "325      16.6      3.7     49         22.0            17                 NaN   \n",
       "349      18.3      4.3     46         22.0            16                 NaN   \n",
       "\n",
       "    gas_type  AC  rain  sun  refill liters refill gas  \n",
       "0        E10   0     0    0           45.0        E10  \n",
       "44      SP98   0     0    0           37.6       SP98  \n",
       "82      SP98   0     0    0           37.7       SP98  \n",
       "106     SP98   0     0    0           45.0       SP98  \n",
       "139      E10   0     1    0           38.0        E10  \n",
       "171      E10   0     0    0           38.3        E10  \n",
       "191     SP98   0     1    0           10.0       SP98  \n",
       "192     SP98   0     0    0           39.0       SP98  \n",
       "234      E10   0     0    0           39.0        E10  \n",
       "274     SP98   0     1    0           41.0       SP98  \n",
       "313     SP98   0     0    0           37.0       SP98  \n",
       "325      E10   0     0    0           37.7        E10  \n",
       "349     SP98   0     0    0           37.2       SP98  "
      ]
     },
     "execution_count": 274,
     "metadata": {},
     "output_type": "execute_result"
    }
   ],
   "source": [
    "data2[data2['refill gas'].isna()==False]"
   ]
  },
  {
   "cell_type": "code",
   "execution_count": 275,
   "id": "32b75451",
   "metadata": {},
   "outputs": [],
   "source": [
    "data2.drop(['refill gas','refill liters'], axis=1, inplace=True)"
   ]
  },
  {
   "cell_type": "code",
   "execution_count": 276,
   "id": "9e5af149",
   "metadata": {},
   "outputs": [
    {
     "name": "stdout",
     "output_type": "stream",
     "text": [
      "distance 0\n",
      "consume 0\n",
      "speed 0\n",
      "temp_inside 12\n",
      "temp_outside 0\n",
      "specials 295\n",
      "gas_type 0\n",
      "AC 0\n",
      "rain 0\n",
      "sun 0\n"
     ]
    }
   ],
   "source": [
    "for x in data2.columns:\n",
    "    print(x, data1[x].isna().sum())"
   ]
  },
  {
   "cell_type": "code",
   "execution_count": 277,
   "id": "8d476783",
   "metadata": {},
   "outputs": [
    {
     "data": {
      "text/plain": [
       "rain                  32\n",
       "sun                   27\n",
       "AC rain                9\n",
       "ac                     8\n",
       "AC                     6\n",
       "snow                   3\n",
       "sun ac                 3\n",
       "AC snow                1\n",
       "half rain half sun     1\n",
       "AC sun                 1\n",
       "AC Sun                 1\n",
       "ac rain                1\n",
       "Name: specials, dtype: int64"
      ]
     },
     "execution_count": 277,
     "metadata": {},
     "output_type": "execute_result"
    }
   ],
   "source": [
    "data2.specials.value_counts()"
   ]
  },
  {
   "cell_type": "code",
   "execution_count": 278,
   "id": "cbf20772",
   "metadata": {},
   "outputs": [],
   "source": [
    "data2.drop('specials', axis=1, inplace=True)"
   ]
  },
  {
   "cell_type": "code",
   "execution_count": 279,
   "id": "52c5e49f",
   "metadata": {},
   "outputs": [
    {
     "data": {
      "text/html": [
       "<div>\n",
       "<style scoped>\n",
       "    .dataframe tbody tr th:only-of-type {\n",
       "        vertical-align: middle;\n",
       "    }\n",
       "\n",
       "    .dataframe tbody tr th {\n",
       "        vertical-align: top;\n",
       "    }\n",
       "\n",
       "    .dataframe thead th {\n",
       "        text-align: right;\n",
       "    }\n",
       "</style>\n",
       "<table border=\"1\" class=\"dataframe\">\n",
       "  <thead>\n",
       "    <tr style=\"text-align: right;\">\n",
       "      <th></th>\n",
       "      <th>distance</th>\n",
       "      <th>consume</th>\n",
       "      <th>speed</th>\n",
       "      <th>temp_inside</th>\n",
       "      <th>temp_outside</th>\n",
       "      <th>gas_type</th>\n",
       "      <th>AC</th>\n",
       "      <th>rain</th>\n",
       "      <th>sun</th>\n",
       "    </tr>\n",
       "  </thead>\n",
       "  <tbody>\n",
       "    <tr>\n",
       "      <th>93</th>\n",
       "      <td>12.4</td>\n",
       "      <td>4.7</td>\n",
       "      <td>43</td>\n",
       "      <td>NaN</td>\n",
       "      <td>10</td>\n",
       "      <td>SP98</td>\n",
       "      <td>0</td>\n",
       "      <td>0</td>\n",
       "      <td>0</td>\n",
       "    </tr>\n",
       "    <tr>\n",
       "      <th>95</th>\n",
       "      <td>11.8</td>\n",
       "      <td>5.3</td>\n",
       "      <td>52</td>\n",
       "      <td>NaN</td>\n",
       "      <td>11</td>\n",
       "      <td>SP98</td>\n",
       "      <td>0</td>\n",
       "      <td>0</td>\n",
       "      <td>0</td>\n",
       "    </tr>\n",
       "    <tr>\n",
       "      <th>97</th>\n",
       "      <td>15.7</td>\n",
       "      <td>5.3</td>\n",
       "      <td>33</td>\n",
       "      <td>NaN</td>\n",
       "      <td>9</td>\n",
       "      <td>SP98</td>\n",
       "      <td>0</td>\n",
       "      <td>0</td>\n",
       "      <td>0</td>\n",
       "    </tr>\n",
       "    <tr>\n",
       "      <th>98</th>\n",
       "      <td>12.9</td>\n",
       "      <td>5.7</td>\n",
       "      <td>35</td>\n",
       "      <td>NaN</td>\n",
       "      <td>9</td>\n",
       "      <td>SP98</td>\n",
       "      <td>0</td>\n",
       "      <td>0</td>\n",
       "      <td>0</td>\n",
       "    </tr>\n",
       "    <tr>\n",
       "      <th>99</th>\n",
       "      <td>6.4</td>\n",
       "      <td>4.4</td>\n",
       "      <td>37</td>\n",
       "      <td>NaN</td>\n",
       "      <td>10</td>\n",
       "      <td>SP98</td>\n",
       "      <td>0</td>\n",
       "      <td>0</td>\n",
       "      <td>0</td>\n",
       "    </tr>\n",
       "    <tr>\n",
       "      <th>100</th>\n",
       "      <td>5.3</td>\n",
       "      <td>4.1</td>\n",
       "      <td>34</td>\n",
       "      <td>NaN</td>\n",
       "      <td>9</td>\n",
       "      <td>SP98</td>\n",
       "      <td>0</td>\n",
       "      <td>0</td>\n",
       "      <td>0</td>\n",
       "    </tr>\n",
       "    <tr>\n",
       "      <th>102</th>\n",
       "      <td>18.8</td>\n",
       "      <td>5.0</td>\n",
       "      <td>62</td>\n",
       "      <td>NaN</td>\n",
       "      <td>9</td>\n",
       "      <td>SP98</td>\n",
       "      <td>0</td>\n",
       "      <td>1</td>\n",
       "      <td>0</td>\n",
       "    </tr>\n",
       "    <tr>\n",
       "      <th>201</th>\n",
       "      <td>22.2</td>\n",
       "      <td>3.8</td>\n",
       "      <td>42</td>\n",
       "      <td>NaN</td>\n",
       "      <td>15</td>\n",
       "      <td>SP98</td>\n",
       "      <td>0</td>\n",
       "      <td>0</td>\n",
       "      <td>0</td>\n",
       "    </tr>\n",
       "    <tr>\n",
       "      <th>203</th>\n",
       "      <td>12.6</td>\n",
       "      <td>4.1</td>\n",
       "      <td>33</td>\n",
       "      <td>NaN</td>\n",
       "      <td>17</td>\n",
       "      <td>SP98</td>\n",
       "      <td>0</td>\n",
       "      <td>0</td>\n",
       "      <td>0</td>\n",
       "    </tr>\n",
       "    <tr>\n",
       "      <th>261</th>\n",
       "      <td>24.5</td>\n",
       "      <td>3.9</td>\n",
       "      <td>50</td>\n",
       "      <td>NaN</td>\n",
       "      <td>15</td>\n",
       "      <td>E10</td>\n",
       "      <td>0</td>\n",
       "      <td>0</td>\n",
       "      <td>1</td>\n",
       "    </tr>\n",
       "    <tr>\n",
       "      <th>267</th>\n",
       "      <td>22.9</td>\n",
       "      <td>4.0</td>\n",
       "      <td>29</td>\n",
       "      <td>NaN</td>\n",
       "      <td>21</td>\n",
       "      <td>E10</td>\n",
       "      <td>0</td>\n",
       "      <td>0</td>\n",
       "      <td>0</td>\n",
       "    </tr>\n",
       "    <tr>\n",
       "      <th>268</th>\n",
       "      <td>16.0</td>\n",
       "      <td>3.8</td>\n",
       "      <td>42</td>\n",
       "      <td>NaN</td>\n",
       "      <td>8</td>\n",
       "      <td>E10</td>\n",
       "      <td>0</td>\n",
       "      <td>0</td>\n",
       "      <td>0</td>\n",
       "    </tr>\n",
       "  </tbody>\n",
       "</table>\n",
       "</div>"
      ],
      "text/plain": [
       "     distance  consume  speed  temp_inside  temp_outside gas_type  AC  rain  \\\n",
       "93       12.4      4.7     43          NaN            10     SP98   0     0   \n",
       "95       11.8      5.3     52          NaN            11     SP98   0     0   \n",
       "97       15.7      5.3     33          NaN             9     SP98   0     0   \n",
       "98       12.9      5.7     35          NaN             9     SP98   0     0   \n",
       "99        6.4      4.4     37          NaN            10     SP98   0     0   \n",
       "100       5.3      4.1     34          NaN             9     SP98   0     0   \n",
       "102      18.8      5.0     62          NaN             9     SP98   0     1   \n",
       "201      22.2      3.8     42          NaN            15     SP98   0     0   \n",
       "203      12.6      4.1     33          NaN            17     SP98   0     0   \n",
       "261      24.5      3.9     50          NaN            15      E10   0     0   \n",
       "267      22.9      4.0     29          NaN            21      E10   0     0   \n",
       "268      16.0      3.8     42          NaN             8      E10   0     0   \n",
       "\n",
       "     sun  \n",
       "93     0  \n",
       "95     0  \n",
       "97     0  \n",
       "98     0  \n",
       "99     0  \n",
       "100    0  \n",
       "102    0  \n",
       "201    0  \n",
       "203    0  \n",
       "261    1  \n",
       "267    0  \n",
       "268    0  "
      ]
     },
     "execution_count": 279,
     "metadata": {},
     "output_type": "execute_result"
    }
   ],
   "source": [
    "data2[data1.temp_inside.isna() == True]"
   ]
  },
  {
   "cell_type": "code",
   "execution_count": 280,
   "id": "feec091d",
   "metadata": {},
   "outputs": [],
   "source": [
    "lower = data2[data2.temp_outside < 15]\n",
    "higher = data2[data2.temp_outside >= 15]\n",
    "lower = lower[lower['temp_inside'].notna()]\n",
    "higher = higher[higher['temp_inside'].notna()]"
   ]
  },
  {
   "cell_type": "code",
   "execution_count": 281,
   "id": "eae93464",
   "metadata": {},
   "outputs": [],
   "source": [
    "lower['temp_inside']=lower['temp_inside'].astype(np.number)\n",
    "higher['temp_inside']= higher['temp_inside'].astype(np.number)"
   ]
  },
  {
   "cell_type": "code",
   "execution_count": 282,
   "id": "b3e232ec",
   "metadata": {},
   "outputs": [
    {
     "name": "stdout",
     "output_type": "stream",
     "text": [
      "21.68199233716475\n",
      "22.491304347826087\n"
     ]
    }
   ],
   "source": [
    "#no significative difference\n",
    "print(lower['temp_inside'].mean())\n",
    "print(higher['temp_inside'].mean())"
   ]
  },
  {
   "cell_type": "code",
   "execution_count": 283,
   "id": "c36a4bf0",
   "metadata": {},
   "outputs": [],
   "source": [
    "data2['temp_inside'].fillna((data2['temp_inside'].mean()), inplace=True)"
   ]
  },
  {
   "cell_type": "code",
   "execution_count": 284,
   "id": "f869a70f",
   "metadata": {},
   "outputs": [
    {
     "name": "stdout",
     "output_type": "stream",
     "text": [
      "<class 'pandas.core.frame.DataFrame'>\n",
      "RangeIndex: 388 entries, 0 to 387\n",
      "Data columns (total 9 columns):\n",
      " #   Column        Non-Null Count  Dtype  \n",
      "---  ------        --------------  -----  \n",
      " 0   distance      388 non-null    float64\n",
      " 1   consume       388 non-null    float64\n",
      " 2   speed         388 non-null    int64  \n",
      " 3   temp_inside   388 non-null    float64\n",
      " 4   temp_outside  388 non-null    int64  \n",
      " 5   gas_type      388 non-null    object \n",
      " 6   AC            388 non-null    int64  \n",
      " 7   rain          388 non-null    int64  \n",
      " 8   sun           388 non-null    int64  \n",
      "dtypes: float64(3), int64(5), object(1)\n",
      "memory usage: 27.4+ KB\n"
     ]
    }
   ],
   "source": [
    "data2.info()"
   ]
  },
  {
   "cell_type": "code",
   "execution_count": 285,
   "id": "bc3f051b",
   "metadata": {},
   "outputs": [],
   "source": [
    "data2['temp_dif'] = data2['temp_inside'] - data2['temp_outside']"
   ]
  },
  {
   "cell_type": "code",
   "execution_count": 286,
   "id": "624b8547",
   "metadata": {},
   "outputs": [
    {
     "data": {
      "text/html": [
       "<div>\n",
       "<style scoped>\n",
       "    .dataframe tbody tr th:only-of-type {\n",
       "        vertical-align: middle;\n",
       "    }\n",
       "\n",
       "    .dataframe tbody tr th {\n",
       "        vertical-align: top;\n",
       "    }\n",
       "\n",
       "    .dataframe thead th {\n",
       "        text-align: right;\n",
       "    }\n",
       "</style>\n",
       "<table border=\"1\" class=\"dataframe\">\n",
       "  <thead>\n",
       "    <tr style=\"text-align: right;\">\n",
       "      <th></th>\n",
       "      <th>distance</th>\n",
       "      <th>consume</th>\n",
       "      <th>speed</th>\n",
       "      <th>temp_inside</th>\n",
       "      <th>temp_outside</th>\n",
       "      <th>gas_type</th>\n",
       "      <th>AC</th>\n",
       "      <th>rain</th>\n",
       "      <th>sun</th>\n",
       "      <th>temp_dif</th>\n",
       "    </tr>\n",
       "  </thead>\n",
       "  <tbody>\n",
       "    <tr>\n",
       "      <th>0</th>\n",
       "      <td>28.0</td>\n",
       "      <td>5.0</td>\n",
       "      <td>26</td>\n",
       "      <td>21.5</td>\n",
       "      <td>12</td>\n",
       "      <td>E10</td>\n",
       "      <td>0</td>\n",
       "      <td>0</td>\n",
       "      <td>0</td>\n",
       "      <td>9.5</td>\n",
       "    </tr>\n",
       "    <tr>\n",
       "      <th>1</th>\n",
       "      <td>12.0</td>\n",
       "      <td>4.2</td>\n",
       "      <td>30</td>\n",
       "      <td>21.5</td>\n",
       "      <td>13</td>\n",
       "      <td>E10</td>\n",
       "      <td>0</td>\n",
       "      <td>0</td>\n",
       "      <td>0</td>\n",
       "      <td>8.5</td>\n",
       "    </tr>\n",
       "    <tr>\n",
       "      <th>2</th>\n",
       "      <td>11.2</td>\n",
       "      <td>5.5</td>\n",
       "      <td>38</td>\n",
       "      <td>21.5</td>\n",
       "      <td>15</td>\n",
       "      <td>E10</td>\n",
       "      <td>0</td>\n",
       "      <td>0</td>\n",
       "      <td>0</td>\n",
       "      <td>6.5</td>\n",
       "    </tr>\n",
       "    <tr>\n",
       "      <th>3</th>\n",
       "      <td>12.9</td>\n",
       "      <td>3.9</td>\n",
       "      <td>36</td>\n",
       "      <td>21.5</td>\n",
       "      <td>14</td>\n",
       "      <td>E10</td>\n",
       "      <td>0</td>\n",
       "      <td>0</td>\n",
       "      <td>0</td>\n",
       "      <td>7.5</td>\n",
       "    </tr>\n",
       "    <tr>\n",
       "      <th>4</th>\n",
       "      <td>18.5</td>\n",
       "      <td>4.5</td>\n",
       "      <td>46</td>\n",
       "      <td>21.5</td>\n",
       "      <td>15</td>\n",
       "      <td>E10</td>\n",
       "      <td>0</td>\n",
       "      <td>0</td>\n",
       "      <td>0</td>\n",
       "      <td>6.5</td>\n",
       "    </tr>\n",
       "  </tbody>\n",
       "</table>\n",
       "</div>"
      ],
      "text/plain": [
       "   distance  consume  speed  temp_inside  temp_outside gas_type  AC  rain  \\\n",
       "0      28.0      5.0     26         21.5            12      E10   0     0   \n",
       "1      12.0      4.2     30         21.5            13      E10   0     0   \n",
       "2      11.2      5.5     38         21.5            15      E10   0     0   \n",
       "3      12.9      3.9     36         21.5            14      E10   0     0   \n",
       "4      18.5      4.5     46         21.5            15      E10   0     0   \n",
       "\n",
       "   sun  temp_dif  \n",
       "0    0       9.5  \n",
       "1    0       8.5  \n",
       "2    0       6.5  \n",
       "3    0       7.5  \n",
       "4    0       6.5  "
      ]
     },
     "execution_count": 286,
     "metadata": {},
     "output_type": "execute_result"
    }
   ],
   "source": [
    "data2.head()"
   ]
  },
  {
   "cell_type": "code",
   "execution_count": 287,
   "id": "2ad52ea0",
   "metadata": {},
   "outputs": [],
   "source": [
    "data2['avg_cons'] = (data2['distance']*data2['consume'])/100"
   ]
  },
  {
   "cell_type": "code",
   "execution_count": 288,
   "id": "3ea15b29",
   "metadata": {},
   "outputs": [],
   "source": [
    "data2['avg_time'] = data2['distance']/data2['speed']"
   ]
  },
  {
   "cell_type": "code",
   "execution_count": 289,
   "id": "6803b6be",
   "metadata": {},
   "outputs": [
    {
     "data": {
      "text/plain": [
       "SP98    228\n",
       "E10     160\n",
       "Name: gas_type, dtype: int64"
      ]
     },
     "execution_count": 289,
     "metadata": {},
     "output_type": "execute_result"
    }
   ],
   "source": [
    "data2.gas_type.value_counts()"
   ]
  },
  {
   "cell_type": "code",
   "execution_count": 290,
   "id": "1de3faa3",
   "metadata": {},
   "outputs": [],
   "source": [
    "url1 = \"https://www.globalpetrolprices.com/Spain/gasoline_prices/\"\n",
    "response = requests.get(url1)\n",
    "response.status_code\n",
    "soup = BeautifulSoup(response.content, \"html.parser\")"
   ]
  },
  {
   "cell_type": "code",
   "execution_count": 291,
   "id": "a7e05f63",
   "metadata": {},
   "outputs": [],
   "source": [
    "a = soup.select(\"#graphPageLeft > table > tbody > tr:nth-child(1) > td:nth-child(2)\")"
   ]
  },
  {
   "cell_type": "code",
   "execution_count": 292,
   "id": "e6eb9e70",
   "metadata": {},
   "outputs": [],
   "source": [
    "e10_price = float(a[0].get_text())"
   ]
  },
  {
   "cell_type": "code",
   "execution_count": 293,
   "id": "7f7d6d52",
   "metadata": {},
   "outputs": [],
   "source": [
    "url2 = \"https://es.fuelo.net/fuel/type/gasoline98/2years?lang=en\"\n",
    "response = requests.get(url2)\n",
    "response.status_code\n",
    "soup = BeautifulSoup(response.content, \"html.parser\")"
   ]
  },
  {
   "cell_type": "code",
   "execution_count": 294,
   "id": "f785ee55",
   "metadata": {},
   "outputs": [],
   "source": [
    "b = soup.select(\"body > div.page-wrapper > div.container > div:nth-child(2) > div.content.col-sm-8.col-md-8 > div:nth-child(2) > div.col-sm-3 > h2\")"
   ]
  },
  {
   "cell_type": "code",
   "execution_count": 295,
   "id": "a6fd1998",
   "metadata": {},
   "outputs": [],
   "source": [
    "sp98_price = b[0].get_text()\n",
    "sp98_price = sp98_price[:5]\n",
    "sp98_price = sp98_price.replace(',','.')\n",
    "sp98_price = float(sp98_price)"
   ]
  },
  {
   "cell_type": "code",
   "execution_count": null,
   "id": "d1995ce0",
   "metadata": {},
   "outputs": [],
   "source": []
  },
  {
   "cell_type": "code",
   "execution_count": null,
   "id": "babab373",
   "metadata": {},
   "outputs": [],
   "source": []
  },
  {
   "cell_type": "code",
   "execution_count": 296,
   "id": "96240cd7",
   "metadata": {},
   "outputs": [],
   "source": [
    "data2.loc[data2['gas_type'] == 'SP98', 'trip_cost'] = sp98_price*data2['avg_cons']\n",
    "data2.loc[data2['gas_type'] == 'E10', 'trip_cost'] = e10_price*data2['avg_cons']"
   ]
  },
  {
   "cell_type": "code",
   "execution_count": 297,
   "id": "83aad2c8",
   "metadata": {},
   "outputs": [
    {
     "data": {
      "text/html": [
       "<div>\n",
       "<style scoped>\n",
       "    .dataframe tbody tr th:only-of-type {\n",
       "        vertical-align: middle;\n",
       "    }\n",
       "\n",
       "    .dataframe tbody tr th {\n",
       "        vertical-align: top;\n",
       "    }\n",
       "\n",
       "    .dataframe thead th {\n",
       "        text-align: right;\n",
       "    }\n",
       "</style>\n",
       "<table border=\"1\" class=\"dataframe\">\n",
       "  <thead>\n",
       "    <tr style=\"text-align: right;\">\n",
       "      <th></th>\n",
       "      <th>distance</th>\n",
       "      <th>consume</th>\n",
       "      <th>speed</th>\n",
       "      <th>temp_inside</th>\n",
       "      <th>temp_outside</th>\n",
       "      <th>gas_type</th>\n",
       "      <th>AC</th>\n",
       "      <th>rain</th>\n",
       "      <th>sun</th>\n",
       "      <th>temp_dif</th>\n",
       "      <th>avg_cons</th>\n",
       "      <th>avg_time</th>\n",
       "      <th>trip_cost</th>\n",
       "    </tr>\n",
       "  </thead>\n",
       "  <tbody>\n",
       "    <tr>\n",
       "      <th>0</th>\n",
       "      <td>28.0</td>\n",
       "      <td>5.0</td>\n",
       "      <td>26</td>\n",
       "      <td>21.5</td>\n",
       "      <td>12</td>\n",
       "      <td>E10</td>\n",
       "      <td>0</td>\n",
       "      <td>0</td>\n",
       "      <td>0</td>\n",
       "      <td>9.5</td>\n",
       "      <td>1.4000</td>\n",
       "      <td>1.076923</td>\n",
       "      <td>2.501800</td>\n",
       "    </tr>\n",
       "    <tr>\n",
       "      <th>1</th>\n",
       "      <td>12.0</td>\n",
       "      <td>4.2</td>\n",
       "      <td>30</td>\n",
       "      <td>21.5</td>\n",
       "      <td>13</td>\n",
       "      <td>E10</td>\n",
       "      <td>0</td>\n",
       "      <td>0</td>\n",
       "      <td>0</td>\n",
       "      <td>8.5</td>\n",
       "      <td>0.5040</td>\n",
       "      <td>0.400000</td>\n",
       "      <td>0.900648</td>\n",
       "    </tr>\n",
       "    <tr>\n",
       "      <th>2</th>\n",
       "      <td>11.2</td>\n",
       "      <td>5.5</td>\n",
       "      <td>38</td>\n",
       "      <td>21.5</td>\n",
       "      <td>15</td>\n",
       "      <td>E10</td>\n",
       "      <td>0</td>\n",
       "      <td>0</td>\n",
       "      <td>0</td>\n",
       "      <td>6.5</td>\n",
       "      <td>0.6160</td>\n",
       "      <td>0.294737</td>\n",
       "      <td>1.100792</td>\n",
       "    </tr>\n",
       "    <tr>\n",
       "      <th>3</th>\n",
       "      <td>12.9</td>\n",
       "      <td>3.9</td>\n",
       "      <td>36</td>\n",
       "      <td>21.5</td>\n",
       "      <td>14</td>\n",
       "      <td>E10</td>\n",
       "      <td>0</td>\n",
       "      <td>0</td>\n",
       "      <td>0</td>\n",
       "      <td>7.5</td>\n",
       "      <td>0.5031</td>\n",
       "      <td>0.358333</td>\n",
       "      <td>0.899040</td>\n",
       "    </tr>\n",
       "    <tr>\n",
       "      <th>4</th>\n",
       "      <td>18.5</td>\n",
       "      <td>4.5</td>\n",
       "      <td>46</td>\n",
       "      <td>21.5</td>\n",
       "      <td>15</td>\n",
       "      <td>E10</td>\n",
       "      <td>0</td>\n",
       "      <td>0</td>\n",
       "      <td>0</td>\n",
       "      <td>6.5</td>\n",
       "      <td>0.8325</td>\n",
       "      <td>0.402174</td>\n",
       "      <td>1.487677</td>\n",
       "    </tr>\n",
       "  </tbody>\n",
       "</table>\n",
       "</div>"
      ],
      "text/plain": [
       "   distance  consume  speed  temp_inside  temp_outside gas_type  AC  rain  \\\n",
       "0      28.0      5.0     26         21.5            12      E10   0     0   \n",
       "1      12.0      4.2     30         21.5            13      E10   0     0   \n",
       "2      11.2      5.5     38         21.5            15      E10   0     0   \n",
       "3      12.9      3.9     36         21.5            14      E10   0     0   \n",
       "4      18.5      4.5     46         21.5            15      E10   0     0   \n",
       "\n",
       "   sun  temp_dif  avg_cons  avg_time  trip_cost  \n",
       "0    0       9.5    1.4000  1.076923   2.501800  \n",
       "1    0       8.5    0.5040  0.400000   0.900648  \n",
       "2    0       6.5    0.6160  0.294737   1.100792  \n",
       "3    0       7.5    0.5031  0.358333   0.899040  \n",
       "4    0       6.5    0.8325  0.402174   1.487677  "
      ]
     },
     "execution_count": 297,
     "metadata": {},
     "output_type": "execute_result"
    }
   ],
   "source": [
    "data2.head()"
   ]
  },
  {
   "cell_type": "code",
   "execution_count": 298,
   "id": "ff56b17a",
   "metadata": {},
   "outputs": [
    {
     "data": {
      "image/png": "[encoded data removed]",
      "text/plain": [
       "<Figure size 432x288 with 1 Axes>"
      ]
     },
     "metadata": {
      "needs_background": "light"
     },
     "output_type": "display_data"
    },
    {
     "data": {
      "image/png": "[encoded data removed]",
      "text/plain": [
       "<Figure size 432x288 with 1 Axes>"
      ]
     },
     "metadata": {
      "needs_background": "light"
     },
     "output_type": "display_data"
    },
    {
     "data": {
      "image/png": "[encoded data removed]",
      "text/plain": [
       "<Figure size 432x288 with 1 Axes>"
      ]
     },
     "metadata": {
      "needs_background": "light"
     },
     "output_type": "display_data"
    },
    {
     "data": {
      "image/png": "[encoded data removed]",
      "text/plain": [
       "<Figure size 432x288 with 1 Axes>"
      ]
     },
     "metadata": {
      "needs_background": "light"
     },
     "output_type": "display_data"
    },
    {
     "data": {
      "image/png": "[encoded data removed]",
      "text/plain": [
       "<Figure size 432x288 with 1 Axes>"
      ]
     },
     "metadata": {
      "needs_background": "light"
     },
     "output_type": "display_data"
    },
    {
     "data": {
      "image/png": "[encoded data removed]",
      "text/plain": [
       "<Figure size 432x288 with 1 Axes>"
      ]
     },
     "metadata": {
      "needs_background": "light"
     },
     "output_type": "display_data"
    },
    {
     "data": {
      "image/png": "[encoded data removed]",
      "text/plain": [
       "<Figure size 432x288 with 1 Axes>"
      ]
     },
     "metadata": {
      "needs_background": "light"
     },
     "output_type": "display_data"
    },
    {
     "data": {
      "image/png": "[encoded data removed]",
      "text/plain": [
       "<Figure size 432x288 with 1 Axes>"
      ]
     },
     "metadata": {
      "needs_background": "light"
     },
     "output_type": "display_data"
    },
    {
     "data": {
      "image/png": "[encoded data removed]",
      "text/plain": [
       "<Figure size 432x288 with 1 Axes>"
      ]
     },
     "metadata": {
      "needs_background": "light"
     },
     "output_type": "display_data"
    },
    {
     "data": {
      "image/png": "[encoded data removed]",
      "text/plain": [
       "<Figure size 432x288 with 1 Axes>"
      ]
     },
     "metadata": {
      "needs_background": "light"
     },
     "output_type": "display_data"
    },
    {
     "data": {
      "image/png": "[encoded data removed]",
      "text/plain": [
       "<Figure size 432x288 with 1 Axes>"
      ]
     },
     "metadata": {
      "needs_background": "light"
     },
     "output_type": "display_data"
    },
    {
     "data": {
      "image/png": "[encoded data removed]",
      "text/plain": [
       "<Figure size 432x288 with 1 Axes>"
      ]
     },
     "metadata": {
      "needs_background": "light"
     },
     "output_type": "display_data"
    },
    {
     "data": {
      "image/png": "[encoded data removed]",
      "text/plain": [
       "<Figure size 432x288 with 1 Axes>"
      ]
     },
     "metadata": {
      "needs_background": "light"
     },
     "output_type": "display_data"
    }
   ],
   "source": [
    "for x in data2.columns:\n",
    "    sns.countplot(x=data2[x])\n",
    "    plt.show()"
   ]
  },
  {
   "cell_type": "code",
   "execution_count": 299,
   "id": "495cac40",
   "metadata": {},
   "outputs": [
    {
     "data": {
      "image/png": "[encoded data removed]",
      "text/plain": [
       "<Figure size 432x288 with 1 Axes>"
      ]
     },
     "metadata": {
      "needs_background": "light"
     },
     "output_type": "display_data"
    }
   ],
   "source": [
    "e10 = data2[data2.gas_type=='E10']\n",
    "sp98 = data2[data2.gas_type=='SP98']\n",
    "\n",
    "ax1 = sns.lineplot(data=e10, x=e10[\"temp_dif\"], y=e10[\"avg_cons\"], label = 'E10')\n",
    "ax2 = sns.lineplot(data=sp98, x=sp98[\"temp_dif\"], y=sp98[\"avg_cons\"], label = 'SP98')\n",
    "plt.legend()\n",
    "plt.show()"
   ]
  },
  {
   "cell_type": "code",
   "execution_count": 300,
   "id": "96199a11",
   "metadata": {},
   "outputs": [],
   "source": [
    "#looks like when the temperature difference is lower than 5 or around 10, the consumption is higher for e10 vehicles\n",
    "#and the overall consumpiton on sp98 is lower though the different temperatures"
   ]
  },
  {
   "cell_type": "code",
   "execution_count": 301,
   "id": "4586e80b",
   "metadata": {},
   "outputs": [
    {
     "data": {
      "image/png": "[encoded data removed]",
      "text/plain": [
       "<Figure size 432x288 with 1 Axes>"
      ]
     },
     "metadata": {
      "needs_background": "light"
     },
     "output_type": "display_data"
    }
   ],
   "source": [
    "ax1 = sns.lineplot(data=e10, x=e10[\"speed\"], y=e10[\"trip_cost\"], label = 'E10')\n",
    "ax2 = sns.lineplot(data=sp98, x=sp98[\"speed\"], y=sp98[\"trip_cost\"], label = 'SP98')\n",
    "plt.legend()\n",
    "plt.show()"
   ]
  },
  {
   "cell_type": "code",
   "execution_count": 302,
   "id": "775eeed1",
   "metadata": {},
   "outputs": [],
   "source": [
    "#e10, at higher speeds (>70), have lower trip costs\n",
    "#between 50 to 70, e10 vehicles trips tend to higher\n",
    "#at lower speeds, the costs look pretty the same"
   ]
  },
  {
   "cell_type": "code",
   "execution_count": 303,
   "id": "290c5c4a",
   "metadata": {},
   "outputs": [
    {
     "data": {
      "image/png": "[encoded data removed]",
      "text/plain": [
       "<Figure size 432x288 with 1 Axes>"
      ]
     },
     "metadata": {
      "needs_background": "light"
     },
     "output_type": "display_data"
    }
   ],
   "source": [
    "ax1 = sns.lineplot(data=e10, x=e10[\"distance\"], y=e10[\"trip_cost\"], label = 'E10')\n",
    "ax2 = sns.lineplot(data=sp98, x=sp98[\"distance\"], y=sp98[\"trip_cost\"], label = 'SP98')\n",
    "plt.legend()\n",
    "plt.show()"
   ]
  },
  {
   "cell_type": "code",
   "execution_count": 304,
   "id": "3b5b4b3c",
   "metadata": {},
   "outputs": [],
   "source": [
    "#looks like, for longer trips, e10 is the best solution\n",
    "#and there's no significant differences between types of fuel in lower distances"
   ]
  },
  {
   "cell_type": "markdown",
   "id": "b59733dc",
   "metadata": {},
   "source": [
    "# since the price of the e10 is significantly lower than the sp98, I would recommend it as the one to be used, since the significant differences are always in favour of e10, being the sp98 the worst possibility (except for lower positive differences in temperatures (inside/outside), where, somehow, when the difference is small, but positve, e10 tens do consume more)"
   ]
  },
  {
   "cell_type": "markdown",
   "id": "096e3dbd",
   "metadata": {},
   "source": [
    "# H0 ----> the cost of e10 or sp98 trips are the same\n",
    "# H1 ----> the cost of e10 or sp98 trips are different"
   ]
  },
  {
   "cell_type": "code",
   "execution_count": 305,
   "id": "46707ac2",
   "metadata": {},
   "outputs": [
    {
     "name": "stdout",
     "output_type": "stream",
     "text": [
      "0.6688364180470459\n",
      "0.4280734098922659\n"
     ]
    }
   ],
   "source": [
    "stat, pval = ttest_ind(data2[data2['gas_type'] == 'E10'].trip_cost,data2[data2['gas_type'] == 'SP98'].trip_cost)\n",
    "print(pval)\n",
    "print(stat)"
   ]
  },
  {
   "cell_type": "markdown",
   "id": "af679d45",
   "metadata": {},
   "source": [
    "# The p-value is way over 0.05 so we FAIL TO REJECT THE NULL, meaning the trips costs of the different vehicles almost the same"
   ]
  },
  {
   "cell_type": "code",
   "execution_count": 306,
   "id": "69b93a49",
   "metadata": {},
   "outputs": [
    {
     "data": {
      "text/plain": [
       "SP98    228\n",
       "E10     160\n",
       "Name: gas_type, dtype: int64"
      ]
     },
     "execution_count": 306,
     "metadata": {},
     "output_type": "execute_result"
    }
   ],
   "source": [
    "data2.gas_type.value_counts()"
   ]
  },
  {
   "cell_type": "code",
   "execution_count": 307,
   "id": "121ab8ec",
   "metadata": {},
   "outputs": [
    {
     "data": {
      "text/plain": [
       "<AxesSubplot:>"
      ]
     },
     "execution_count": 307,
     "metadata": {},
     "output_type": "execute_result"
    },
    {
     "data": {
      "image/png": "[encoded data removed]",
      "text/plain": [
       "<Figure size 432x288 with 2 Axes>"
      ]
     },
     "metadata": {
      "needs_background": "light"
     },
     "output_type": "display_data"
    }
   ],
   "source": [
    "import seaborn as sns\n",
    "correl_matrix_cont = data2.corr()\n",
    "sns.heatmap(correl_matrix_cont,annot=True)"
   ]
  },
  {
   "cell_type": "code",
   "execution_count": 308,
   "id": "b9e4d1dd",
   "metadata": {},
   "outputs": [],
   "source": [
    "data2.loc[data2['gas_type'] == 'SP98', 'gas_type'] = 1\n",
    "data2.loc[data2['gas_type'] == 'E10', 'gas_type'] = 0"
   ]
  },
  {
   "cell_type": "code",
   "execution_count": 309,
   "id": "dcefeccc",
   "metadata": {},
   "outputs": [],
   "source": [
    "data2.drop(['avg_cons','trip_cost'], axis=1, inplace=True)"
   ]
  },
  {
   "cell_type": "code",
   "execution_count": 310,
   "id": "cae5d1fd",
   "metadata": {},
   "outputs": [],
   "source": [
    "X = data2.drop('gas_type',axis=1)\n",
    "y = data2['gas_type']\n",
    "\n",
    "X_train, X_test, y_train, y_test = train_test_split(X, y, test_size=0.2)"
   ]
  },
  {
   "cell_type": "code",
   "execution_count": 311,
   "id": "c59d6248",
   "metadata": {},
   "outputs": [],
   "source": [
    "imbalance = pd.concat([X_train,y_train],axis=1)"
   ]
  },
  {
   "cell_type": "code",
   "execution_count": 312,
   "id": "29c994f4",
   "metadata": {},
   "outputs": [],
   "source": [
    "SP98 = imbalance[imbalance['gas_type'] == 1]\n",
    "E10 = imbalance[imbalance['gas_type'] == 0]"
   ]
  },
  {
   "cell_type": "code",
   "execution_count": 313,
   "id": "8924d2b1",
   "metadata": {},
   "outputs": [],
   "source": [
    "E10_oversampled = resample(E10,replace=True,n_samples = len(SP98),random_state=0)"
   ]
  },
  {
   "cell_type": "code",
   "execution_count": 314,
   "id": "3c9651a8",
   "metadata": {},
   "outputs": [
    {
     "data": {
      "text/plain": [
       "(172, 11)"
      ]
     },
     "metadata": {},
     "output_type": "display_data"
    },
    {
     "data": {
      "text/plain": [
       "(172, 11)"
      ]
     },
     "metadata": {},
     "output_type": "display_data"
    }
   ],
   "source": [
    "display(SP98.shape)\n",
    "display(E10_oversampled.shape)"
   ]
  },
  {
   "cell_type": "code",
   "execution_count": 315,
   "id": "ef61a8f3",
   "metadata": {},
   "outputs": [],
   "source": [
    "imbalance = pd.concat([E10_oversampled,SP98],axis=0)\n",
    "imbalance = imbalance.sample(frac=1)"
   ]
  },
  {
   "cell_type": "code",
   "execution_count": 316,
   "id": "4237b3da",
   "metadata": {},
   "outputs": [],
   "source": [
    "y_train = imbalance['gas_type']\n",
    "X_train = imbalance.drop('gas_type',axis = 1)"
   ]
  },
  {
   "cell_type": "code",
   "execution_count": 317,
   "id": "55d31384",
   "metadata": {},
   "outputs": [
    {
     "data": {
      "text/plain": [
       "Index(['distance', 'consume', 'speed', 'temp_inside', 'temp_outside', 'AC',\n",
       "       'rain', 'sun', 'temp_dif', 'avg_time'],\n",
       "      dtype='object')"
      ]
     },
     "execution_count": 317,
     "metadata": {},
     "output_type": "execute_result"
    }
   ],
   "source": [
    "X_train.columns"
   ]
  },
  {
   "cell_type": "code",
   "execution_count": 318,
   "id": "53745e4e",
   "metadata": {},
   "outputs": [],
   "source": [
    "x_train_numerical = X_train.select_dtypes(np.number)\n",
    "\n",
    "x_test_numerical = X_test.select_dtypes(np.number)\n"
   ]
  },
  {
   "cell_type": "code",
   "execution_count": 319,
   "id": "d0ea7202",
   "metadata": {},
   "outputs": [],
   "source": [
    "transformer = MinMaxScaler().fit(x_train_numerical)\n",
    "normalized = transformer.transform(x_train_numerical)\n",
    "normalized_x_train = pd.DataFrame(normalized,columns=x_train_numerical.columns)"
   ]
  },
  {
   "cell_type": "code",
   "execution_count": 320,
   "id": "4c4b1593",
   "metadata": {},
   "outputs": [],
   "source": [
    "normalized = transformer.transform(x_test_numerical)\n",
    "normalized_x_test = pd.DataFrame(normalized,columns=x_test_numerical.columns)"
   ]
  },
  {
   "cell_type": "code",
   "execution_count": 321,
   "id": "14a5ecf4",
   "metadata": {},
   "outputs": [],
   "source": [
    "X_train = normalized_x_train\n",
    "X_test = normalized_x_test"
   ]
  },
  {
   "cell_type": "code",
   "execution_count": 322,
   "id": "aa65e452",
   "metadata": {},
   "outputs": [],
   "source": [
    "y_train = y_train.astype(int)\n",
    "y_test = y_test.astype(int)"
   ]
  },
  {
   "cell_type": "code",
   "execution_count": 323,
   "id": "5c6986b9",
   "metadata": {},
   "outputs": [
    {
     "data": {
      "text/html": [
       "<div>\n",
       "<style scoped>\n",
       "    .dataframe tbody tr th:only-of-type {\n",
       "        vertical-align: middle;\n",
       "    }\n",
       "\n",
       "    .dataframe tbody tr th {\n",
       "        vertical-align: top;\n",
       "    }\n",
       "\n",
       "    .dataframe thead th {\n",
       "        text-align: right;\n",
       "    }\n",
       "</style>\n",
       "<table border=\"1\" class=\"dataframe\">\n",
       "  <thead>\n",
       "    <tr style=\"text-align: right;\">\n",
       "      <th></th>\n",
       "      <th>distance</th>\n",
       "      <th>consume</th>\n",
       "      <th>speed</th>\n",
       "      <th>temp_inside</th>\n",
       "      <th>temp_outside</th>\n",
       "      <th>AC</th>\n",
       "      <th>rain</th>\n",
       "      <th>sun</th>\n",
       "      <th>temp_dif</th>\n",
       "      <th>avg_time</th>\n",
       "    </tr>\n",
       "  </thead>\n",
       "  <tbody>\n",
       "    <tr>\n",
       "      <th>0</th>\n",
       "      <td>0.050745</td>\n",
       "      <td>0.280899</td>\n",
       "      <td>0.605263</td>\n",
       "      <td>0.153846</td>\n",
       "      <td>0.444444</td>\n",
       "      <td>0.0</td>\n",
       "      <td>0.0</td>\n",
       "      <td>0.0</td>\n",
       "      <td>0.500000</td>\n",
       "      <td>0.054911</td>\n",
       "    </tr>\n",
       "    <tr>\n",
       "      <th>1</th>\n",
       "      <td>0.017691</td>\n",
       "      <td>0.348315</td>\n",
       "      <td>0.328947</td>\n",
       "      <td>0.384615</td>\n",
       "      <td>0.250000</td>\n",
       "      <td>0.0</td>\n",
       "      <td>0.0</td>\n",
       "      <td>0.0</td>\n",
       "      <td>0.750000</td>\n",
       "      <td>0.026737</td>\n",
       "    </tr>\n",
       "    <tr>\n",
       "      <th>2</th>\n",
       "      <td>0.048883</td>\n",
       "      <td>0.134831</td>\n",
       "      <td>0.355263</td>\n",
       "      <td>0.384615</td>\n",
       "      <td>0.500000</td>\n",
       "      <td>0.0</td>\n",
       "      <td>0.0</td>\n",
       "      <td>0.0</td>\n",
       "      <td>0.485294</td>\n",
       "      <td>0.087708</td>\n",
       "    </tr>\n",
       "    <tr>\n",
       "      <th>3</th>\n",
       "      <td>0.030726</td>\n",
       "      <td>0.157303</td>\n",
       "      <td>0.223684</td>\n",
       "      <td>0.538462</td>\n",
       "      <td>0.472222</td>\n",
       "      <td>1.0</td>\n",
       "      <td>0.0</td>\n",
       "      <td>0.0</td>\n",
       "      <td>0.544118</td>\n",
       "      <td>0.074908</td>\n",
       "    </tr>\n",
       "    <tr>\n",
       "      <th>4</th>\n",
       "      <td>0.048883</td>\n",
       "      <td>0.146067</td>\n",
       "      <td>0.315789</td>\n",
       "      <td>0.384615</td>\n",
       "      <td>0.138889</td>\n",
       "      <td>0.0</td>\n",
       "      <td>0.0</td>\n",
       "      <td>0.0</td>\n",
       "      <td>0.867647</td>\n",
       "      <td>0.096530</td>\n",
       "    </tr>\n",
       "  </tbody>\n",
       "</table>\n",
       "</div>"
      ],
      "text/plain": [
       "   distance   consume     speed  temp_inside  temp_outside   AC  rain  sun  \\\n",
       "0  0.050745  0.280899  0.605263     0.153846      0.444444  0.0   0.0  0.0   \n",
       "1  0.017691  0.348315  0.328947     0.384615      0.250000  0.0   0.0  0.0   \n",
       "2  0.048883  0.134831  0.355263     0.384615      0.500000  0.0   0.0  0.0   \n",
       "3  0.030726  0.157303  0.223684     0.538462      0.472222  1.0   0.0  0.0   \n",
       "4  0.048883  0.146067  0.315789     0.384615      0.138889  0.0   0.0  0.0   \n",
       "\n",
       "   temp_dif  avg_time  \n",
       "0  0.500000  0.054911  \n",
       "1  0.750000  0.026737  \n",
       "2  0.485294  0.087708  \n",
       "3  0.544118  0.074908  \n",
       "4  0.867647  0.096530  "
      ]
     },
     "execution_count": 323,
     "metadata": {},
     "output_type": "execute_result"
    }
   ],
   "source": [
    "\n",
    "X_test.head()"
   ]
  },
  {
   "cell_type": "code",
   "execution_count": 324,
   "id": "5eff5480",
   "metadata": {},
   "outputs": [
    {
     "data": {
      "text/html": [
       "<style>#sk-container-id-6 {color: black;background-color: white;}#sk-container-id-6 pre{padding: 0;}#sk-container-id-6 div.sk-toggleable {background-color: white;}#sk-container-id-6 label.sk-toggleable__label {cursor: pointer;display: block;width: 100%;margin-bottom: 0;padding: 0.3em;box-sizing: border-box;text-align: center;}#sk-container-id-6 label.sk-toggleable__label-arrow:before {content: \"▸\";float: left;margin-right: 0.25em;color: #696969;}#sk-container-id-6 label.sk-toggleable__label-arrow:hover:before {color: black;}#sk-container-id-6 div.sk-estimator:hover label.sk-toggleable__label-arrow:before {color: black;}#sk-container-id-6 div.sk-toggleable__content {max-height: 0;max-width: 0;overflow: hidden;text-align: left;background-color: #f0f8ff;}#sk-container-id-6 div.sk-toggleable__content pre {margin: 0.2em;color: black;border-radius: 0.25em;background-color: #f0f8ff;}#sk-container-id-6 input.sk-toggleable__control:checked~div.sk-toggleable__content {max-height: 200px;max-width: 100%;overflow: auto;}#sk-container-id-6 input.sk-toggleable__control:checked~label.sk-toggleable__label-arrow:before {content: \"▾\";}#sk-container-id-6 div.sk-estimator input.sk-toggleable__control:checked~label.sk-toggleable__label {background-color: #d4ebff;}#sk-container-id-6 div.sk-label input.sk-toggleable__control:checked~label.sk-toggleable__label {background-color: #d4ebff;}#sk-container-id-6 input.sk-hidden--visually {border: 0;clip: rect(1px 1px 1px 1px);clip: rect(1px, 1px, 1px, 1px);height: 1px;margin: -1px;overflow: hidden;padding: 0;position: absolute;width: 1px;}#sk-container-id-6 div.sk-estimator {font-family: monospace;background-color: #f0f8ff;border: 1px dotted black;border-radius: 0.25em;box-sizing: border-box;margin-bottom: 0.5em;}#sk-container-id-6 div.sk-estimator:hover {background-color: #d4ebff;}#sk-container-id-6 div.sk-parallel-item::after {content: \"\";width: 100%;border-bottom: 1px solid gray;flex-grow: 1;}#sk-container-id-6 div.sk-label:hover label.sk-toggleable__label {background-color: #d4ebff;}#sk-container-id-6 div.sk-serial::before {content: \"\";position: absolute;border-left: 1px solid gray;box-sizing: border-box;top: 0;bottom: 0;left: 50%;z-index: 0;}#sk-container-id-6 div.sk-serial {display: flex;flex-direction: column;align-items: center;background-color: white;padding-right: 0.2em;padding-left: 0.2em;position: relative;}#sk-container-id-6 div.sk-item {position: relative;z-index: 1;}#sk-container-id-6 div.sk-parallel {display: flex;align-items: stretch;justify-content: center;background-color: white;position: relative;}#sk-container-id-6 div.sk-item::before, #sk-container-id-6 div.sk-parallel-item::before {content: \"\";position: absolute;border-left: 1px solid gray;box-sizing: border-box;top: 0;bottom: 0;left: 50%;z-index: -1;}#sk-container-id-6 div.sk-parallel-item {display: flex;flex-direction: column;z-index: 1;position: relative;background-color: white;}#sk-container-id-6 div.sk-parallel-item:first-child::after {align-self: flex-end;width: 50%;}#sk-container-id-6 div.sk-parallel-item:last-child::after {align-self: flex-start;width: 50%;}#sk-container-id-6 div.sk-parallel-item:only-child::after {width: 0;}#sk-container-id-6 div.sk-dashed-wrapped {border: 1px dashed gray;margin: 0 0.4em 0.5em 0.4em;box-sizing: border-box;padding-bottom: 0.4em;background-color: white;}#sk-container-id-6 div.sk-label label {font-family: monospace;font-weight: bold;display: inline-block;line-height: 1.2em;}#sk-container-id-6 div.sk-label-container {text-align: center;}#sk-container-id-6 div.sk-container {/* jupyter's `normalize.less` sets `[hidden] { display: none; }` but bootstrap.min.css set `[hidden] { display: none !important; }` so we also need the `!important` here to be able to override the default hidden behavior on the sphinx rendered scikit-learn.org. See: https://github.com/scikit-learn/scikit-learn/issues/21755 */display: inline-block !important;position: relative;}#sk-container-id-6 div.sk-text-repr-fallback {display: none;}</style><div id=\"sk-container-id-6\" class=\"sk-top-container\"><div class=\"sk-text-repr-fallback\"><pre>DecisionTreeClassifier(max_depth=6)</pre><b>In a Jupyter environment, please rerun this cell to show the HTML representation or trust the notebook. <br />On GitHub, the HTML representation is unable to render, please try loading this page with nbviewer.org.</b></div><div class=\"sk-container\" hidden><div class=\"sk-item\"><div class=\"sk-estimator sk-toggleable\"><input class=\"sk-toggleable__control sk-hidden--visually\" id=\"sk-estimator-id-6\" type=\"checkbox\" checked><label for=\"sk-estimator-id-6\" class=\"sk-toggleable__label sk-toggleable__label-arrow\">DecisionTreeClassifier</label><div class=\"sk-toggleable__content\"><pre>DecisionTreeClassifier(max_depth=6)</pre></div></div></div></div></div>"
      ],
      "text/plain": [
       "DecisionTreeClassifier(max_depth=6)"
      ]
     },
     "execution_count": 324,
     "metadata": {},
     "output_type": "execute_result"
    }
   ],
   "source": [
    "from sklearn.tree import DecisionTreeClassifier\n",
    "model = DecisionTreeClassifier(max_depth=6)\n",
    "model.fit(X_train, y_train)"
   ]
  },
  {
   "cell_type": "code",
   "execution_count": 325,
   "id": "f4ce1754",
   "metadata": {},
   "outputs": [
    {
     "name": "stdout",
     "output_type": "stream",
     "text": [
      "test data accuracy was  0.6153846153846154\n",
      "train data accuracy was  0.8372093023255814\n"
     ]
    }
   ],
   "source": [
    "print(\"test data accuracy was \",model.score(X_test,y_test))\n",
    "\n",
    "print(\"train data accuracy was \",model.score(X_train,y_train))"
   ]
  },
  {
   "cell_type": "code",
   "execution_count": 326,
   "id": "d01964ce",
   "metadata": {},
   "outputs": [],
   "source": [
    "max_depth = range(1,15)\n",
    "test = []\n",
    "train = []\n",
    "\n",
    "for depth in max_depth:\n",
    "    model = DecisionTreeClassifier(max_depth=depth, random_state=0)\n",
    "    model.fit(X_train, y_train)\n",
    "    test.append(model.score(X_test,y_test))\n",
    "    train.append(model.score(X_train,y_train))"
   ]
  },
  {
   "cell_type": "code",
   "execution_count": 327,
   "id": "2d8e1e66",
   "metadata": {},
   "outputs": [
    {
     "data": {
      "text/plain": [
       "<matplotlib.legend.Legend at 0x7f999c403910>"
      ]
     },
     "execution_count": 327,
     "metadata": {},
     "output_type": "execute_result"
    },
    {
     "data": {
      "image/png": "[encoded data removed]",
      "text/plain": [
       "<Figure size 432x288 with 1 Axes>"
      ]
     },
     "metadata": {
      "needs_background": "light"
     },
     "output_type": "display_data"
    }
   ],
   "source": [
    "import matplotlib.pyplot as plt\n",
    "%matplotlib inline\n",
    "plt.plot( train, label=\"training accuracy\")\n",
    "plt.plot( test, label=\"test accuracy\")\n",
    "plt.ylabel(\"Accuracy\")\n",
    "plt.xlabel(\"n_depth-1\")\n",
    "plt.legend()"
   ]
  },
  {
   "cell_type": "code",
   "execution_count": 328,
   "id": "cbdaa24d",
   "metadata": {},
   "outputs": [
    {
     "data": {
      "text/html": [
       "<style>#sk-container-id-7 {color: black;background-color: white;}#sk-container-id-7 pre{padding: 0;}#sk-container-id-7 div.sk-toggleable {background-color: white;}#sk-container-id-7 label.sk-toggleable__label {cursor: pointer;display: block;width: 100%;margin-bottom: 0;padding: 0.3em;box-sizing: border-box;text-align: center;}#sk-container-id-7 label.sk-toggleable__label-arrow:before {content: \"▸\";float: left;margin-right: 0.25em;color: #696969;}#sk-container-id-7 label.sk-toggleable__label-arrow:hover:before {color: black;}#sk-container-id-7 div.sk-estimator:hover label.sk-toggleable__label-arrow:before {color: black;}#sk-container-id-7 div.sk-toggleable__content {max-height: 0;max-width: 0;overflow: hidden;text-align: left;background-color: #f0f8ff;}#sk-container-id-7 div.sk-toggleable__content pre {margin: 0.2em;color: black;border-radius: 0.25em;background-color: #f0f8ff;}#sk-container-id-7 input.sk-toggleable__control:checked~div.sk-toggleable__content {max-height: 200px;max-width: 100%;overflow: auto;}#sk-container-id-7 input.sk-toggleable__control:checked~label.sk-toggleable__label-arrow:before {content: \"▾\";}#sk-container-id-7 div.sk-estimator input.sk-toggleable__control:checked~label.sk-toggleable__label {background-color: #d4ebff;}#sk-container-id-7 div.sk-label input.sk-toggleable__control:checked~label.sk-toggleable__label {background-color: #d4ebff;}#sk-container-id-7 input.sk-hidden--visually {border: 0;clip: rect(1px 1px 1px 1px);clip: rect(1px, 1px, 1px, 1px);height: 1px;margin: -1px;overflow: hidden;padding: 0;position: absolute;width: 1px;}#sk-container-id-7 div.sk-estimator {font-family: monospace;background-color: #f0f8ff;border: 1px dotted black;border-radius: 0.25em;box-sizing: border-box;margin-bottom: 0.5em;}#sk-container-id-7 div.sk-estimator:hover {background-color: #d4ebff;}#sk-container-id-7 div.sk-parallel-item::after {content: \"\";width: 100%;border-bottom: 1px solid gray;flex-grow: 1;}#sk-container-id-7 div.sk-label:hover label.sk-toggleable__label {background-color: #d4ebff;}#sk-container-id-7 div.sk-serial::before {content: \"\";position: absolute;border-left: 1px solid gray;box-sizing: border-box;top: 0;bottom: 0;left: 50%;z-index: 0;}#sk-container-id-7 div.sk-serial {display: flex;flex-direction: column;align-items: center;background-color: white;padding-right: 0.2em;padding-left: 0.2em;position: relative;}#sk-container-id-7 div.sk-item {position: relative;z-index: 1;}#sk-container-id-7 div.sk-parallel {display: flex;align-items: stretch;justify-content: center;background-color: white;position: relative;}#sk-container-id-7 div.sk-item::before, #sk-container-id-7 div.sk-parallel-item::before {content: \"\";position: absolute;border-left: 1px solid gray;box-sizing: border-box;top: 0;bottom: 0;left: 50%;z-index: -1;}#sk-container-id-7 div.sk-parallel-item {display: flex;flex-direction: column;z-index: 1;position: relative;background-color: white;}#sk-container-id-7 div.sk-parallel-item:first-child::after {align-self: flex-end;width: 50%;}#sk-container-id-7 div.sk-parallel-item:last-child::after {align-self: flex-start;width: 50%;}#sk-container-id-7 div.sk-parallel-item:only-child::after {width: 0;}#sk-container-id-7 div.sk-dashed-wrapped {border: 1px dashed gray;margin: 0 0.4em 0.5em 0.4em;box-sizing: border-box;padding-bottom: 0.4em;background-color: white;}#sk-container-id-7 div.sk-label label {font-family: monospace;font-weight: bold;display: inline-block;line-height: 1.2em;}#sk-container-id-7 div.sk-label-container {text-align: center;}#sk-container-id-7 div.sk-container {/* jupyter's `normalize.less` sets `[hidden] { display: none; }` but bootstrap.min.css set `[hidden] { display: none !important; }` so we also need the `!important` here to be able to override the default hidden behavior on the sphinx rendered scikit-learn.org. See: https://github.com/scikit-learn/scikit-learn/issues/21755 */display: inline-block !important;position: relative;}#sk-container-id-7 div.sk-text-repr-fallback {display: none;}</style><div id=\"sk-container-id-7\" class=\"sk-top-container\"><div class=\"sk-text-repr-fallback\"><pre>DecisionTreeClassifier(max_depth=3)</pre><b>In a Jupyter environment, please rerun this cell to show the HTML representation or trust the notebook. <br />On GitHub, the HTML representation is unable to render, please try loading this page with nbviewer.org.</b></div><div class=\"sk-container\" hidden><div class=\"sk-item\"><div class=\"sk-estimator sk-toggleable\"><input class=\"sk-toggleable__control sk-hidden--visually\" id=\"sk-estimator-id-7\" type=\"checkbox\" checked><label for=\"sk-estimator-id-7\" class=\"sk-toggleable__label sk-toggleable__label-arrow\">DecisionTreeClassifier</label><div class=\"sk-toggleable__content\"><pre>DecisionTreeClassifier(max_depth=3)</pre></div></div></div></div></div>"
      ],
      "text/plain": [
       "DecisionTreeClassifier(max_depth=3)"
      ]
     },
     "execution_count": 328,
     "metadata": {},
     "output_type": "execute_result"
    }
   ],
   "source": [
    "model = DecisionTreeClassifier(max_depth=3)\n",
    "model.fit(X_train, y_train)"
   ]
  },
  {
   "cell_type": "code",
   "execution_count": 329,
   "id": "657120dc",
   "metadata": {},
   "outputs": [
    {
     "name": "stdout",
     "output_type": "stream",
     "text": [
      "test data accuracy was  0.7051282051282052\n",
      "train data accuracy was  0.6598837209302325\n"
     ]
    }
   ],
   "source": [
    "print(\"test data accuracy was \",model.score(X_test,y_test))\n",
    "\n",
    "print(\"train data accuracy was \",model.score(X_train,y_train))"
   ]
  },
  {
   "cell_type": "code",
   "execution_count": 330,
   "id": "91c39a04",
   "metadata": {},
   "outputs": [
    {
     "data": {
      "text/html": [
       "<style>#sk-container-id-8 {color: black;background-color: white;}#sk-container-id-8 pre{padding: 0;}#sk-container-id-8 div.sk-toggleable {background-color: white;}#sk-container-id-8 label.sk-toggleable__label {cursor: pointer;display: block;width: 100%;margin-bottom: 0;padding: 0.3em;box-sizing: border-box;text-align: center;}#sk-container-id-8 label.sk-toggleable__label-arrow:before {content: \"▸\";float: left;margin-right: 0.25em;color: #696969;}#sk-container-id-8 label.sk-toggleable__label-arrow:hover:before {color: black;}#sk-container-id-8 div.sk-estimator:hover label.sk-toggleable__label-arrow:before {color: black;}#sk-container-id-8 div.sk-toggleable__content {max-height: 0;max-width: 0;overflow: hidden;text-align: left;background-color: #f0f8ff;}#sk-container-id-8 div.sk-toggleable__content pre {margin: 0.2em;color: black;border-radius: 0.25em;background-color: #f0f8ff;}#sk-container-id-8 input.sk-toggleable__control:checked~div.sk-toggleable__content {max-height: 200px;max-width: 100%;overflow: auto;}#sk-container-id-8 input.sk-toggleable__control:checked~label.sk-toggleable__label-arrow:before {content: \"▾\";}#sk-container-id-8 div.sk-estimator input.sk-toggleable__control:checked~label.sk-toggleable__label {background-color: #d4ebff;}#sk-container-id-8 div.sk-label input.sk-toggleable__control:checked~label.sk-toggleable__label {background-color: #d4ebff;}#sk-container-id-8 input.sk-hidden--visually {border: 0;clip: rect(1px 1px 1px 1px);clip: rect(1px, 1px, 1px, 1px);height: 1px;margin: -1px;overflow: hidden;padding: 0;position: absolute;width: 1px;}#sk-container-id-8 div.sk-estimator {font-family: monospace;background-color: #f0f8ff;border: 1px dotted black;border-radius: 0.25em;box-sizing: border-box;margin-bottom: 0.5em;}#sk-container-id-8 div.sk-estimator:hover {background-color: #d4ebff;}#sk-container-id-8 div.sk-parallel-item::after {content: \"\";width: 100%;border-bottom: 1px solid gray;flex-grow: 1;}#sk-container-id-8 div.sk-label:hover label.sk-toggleable__label {background-color: #d4ebff;}#sk-container-id-8 div.sk-serial::before {content: \"\";position: absolute;border-left: 1px solid gray;box-sizing: border-box;top: 0;bottom: 0;left: 50%;z-index: 0;}#sk-container-id-8 div.sk-serial {display: flex;flex-direction: column;align-items: center;background-color: white;padding-right: 0.2em;padding-left: 0.2em;position: relative;}#sk-container-id-8 div.sk-item {position: relative;z-index: 1;}#sk-container-id-8 div.sk-parallel {display: flex;align-items: stretch;justify-content: center;background-color: white;position: relative;}#sk-container-id-8 div.sk-item::before, #sk-container-id-8 div.sk-parallel-item::before {content: \"\";position: absolute;border-left: 1px solid gray;box-sizing: border-box;top: 0;bottom: 0;left: 50%;z-index: -1;}#sk-container-id-8 div.sk-parallel-item {display: flex;flex-direction: column;z-index: 1;position: relative;background-color: white;}#sk-container-id-8 div.sk-parallel-item:first-child::after {align-self: flex-end;width: 50%;}#sk-container-id-8 div.sk-parallel-item:last-child::after {align-self: flex-start;width: 50%;}#sk-container-id-8 div.sk-parallel-item:only-child::after {width: 0;}#sk-container-id-8 div.sk-dashed-wrapped {border: 1px dashed gray;margin: 0 0.4em 0.5em 0.4em;box-sizing: border-box;padding-bottom: 0.4em;background-color: white;}#sk-container-id-8 div.sk-label label {font-family: monospace;font-weight: bold;display: inline-block;line-height: 1.2em;}#sk-container-id-8 div.sk-label-container {text-align: center;}#sk-container-id-8 div.sk-container {/* jupyter's `normalize.less` sets `[hidden] { display: none; }` but bootstrap.min.css set `[hidden] { display: none !important; }` so we also need the `!important` here to be able to override the default hidden behavior on the sphinx rendered scikit-learn.org. See: https://github.com/scikit-learn/scikit-learn/issues/21755 */display: inline-block !important;position: relative;}#sk-container-id-8 div.sk-text-repr-fallback {display: none;}</style><div id=\"sk-container-id-8\" class=\"sk-top-container\"><div class=\"sk-text-repr-fallback\"><pre>RandomForestClassifier()</pre><b>In a Jupyter environment, please rerun this cell to show the HTML representation or trust the notebook. <br />On GitHub, the HTML representation is unable to render, please try loading this page with nbviewer.org.</b></div><div class=\"sk-container\" hidden><div class=\"sk-item\"><div class=\"sk-estimator sk-toggleable\"><input class=\"sk-toggleable__control sk-hidden--visually\" id=\"sk-estimator-id-8\" type=\"checkbox\" checked><label for=\"sk-estimator-id-8\" class=\"sk-toggleable__label sk-toggleable__label-arrow\">RandomForestClassifier</label><div class=\"sk-toggleable__content\"><pre>RandomForestClassifier()</pre></div></div></div></div></div>"
      ],
      "text/plain": [
       "RandomForestClassifier()"
      ]
     },
     "execution_count": 330,
     "metadata": {},
     "output_type": "execute_result"
    }
   ],
   "source": [
    "clf=RandomForestClassifier()\n",
    "clf.fit(X_train, y_train)"
   ]
  },
  {
   "cell_type": "code",
   "execution_count": 331,
   "id": "bfc031d7",
   "metadata": {},
   "outputs": [
    {
     "name": "stdout",
     "output_type": "stream",
     "text": [
      "1.0\n",
      "0.6410256410256411\n"
     ]
    }
   ],
   "source": [
    "print (clf.score(X_train, y_train))\n",
    "print(clf.score(X_test, y_test))"
   ]
  },
  {
   "cell_type": "code",
   "execution_count": null,
   "id": "7aa00700",
   "metadata": {},
   "outputs": [],
   "source": []
  },
  {
   "cell_type": "code",
   "execution_count": null,
   "id": "830a5b98",
   "metadata": {},
   "outputs": [],
   "source": []
  },
  {
   "cell_type": "code",
   "execution_count": null,
   "id": "6028b021",
   "metadata": {},
   "outputs": [],
   "source": []
  },
  {
   "cell_type": "code",
   "execution_count": null,
   "id": "f8420e86",
   "metadata": {},
   "outputs": [],
   "source": []
  },
  {
   "cell_type": "markdown",
   "id": "48d7a0db",
   "metadata": {},
   "source": [
    "# Conclusions"
   ]
  },
  {
   "cell_type": "markdown",
   "id": "23dc6dec",
   "metadata": {},
   "source": [
    "Looking through the data, I've realized that, using today's prices (I did some web scraping), there's no much of a difference between those two fuels:\n",
    "    Looks like when the temperature difference is lower than 5 or around 10, the consumption is higher for e10 vehicles. And the overall consumpiton on sp98 is lower though the different temperatures;\n",
    "    E10, at higher speeds (>70), have lower trip costs. Between 50 to 70, e10 vehicles trips tend to higher\n",
    "At lower speeds, the costs look pretty the same;\n",
    "    Looks like, for longer trips, e10 is the best solution\n",
    "    And there's no significant differences between types of fuel in lower distances\n",
    "\n",
    "The trips costs of the different vehicles are almost the same.\n",
    "\n",
    "With more time, I would like to do a analysis using the price of electricity and a model to predict the costs of using that kind of vehicle.\n",
    "\n",
    "I've created 2 different models, to predict the type of fuel a car uses, by looking into the others available features. Using the decision tree regressor and the random forest classifier, I was able to guess the type of fuel used 66% of the time."
   ]
  },
  {
   "cell_type": "code",
   "execution_count": 266,
   "id": "6d216b86",
   "metadata": {},
   "outputs": [
    {
     "name": "stdout",
     "output_type": "stream",
     "text": [
      "On branch master\n",
      "Your branch is up to date with 'origin/master'.\n",
      "\n",
      "Changes to be committed:\n",
      "  (use \"git restore --staged <file>...\" to unstage)\n",
      "\t\u001b[32mnew file:   Untitled.ipynb\u001b[m\n",
      "\t\u001b[32mmodified:   measurements2.xlsx\u001b[m\n",
      "\n",
      "[master 8d6e577] ferreira\n",
      " 2 files changed, 2353 insertions(+)\n",
      " create mode 100644 data/Untitled.ipynb\n",
      " rewrite data/measurements2.xlsx (89%)\n",
      "Enumerating objects: 8, done.\n",
      "Counting objects: 100% (8/8), done.\n",
      "Delta compression using up to 8 threads\n",
      "Compressing objects: 100% (5/5), done.\n",
      "Writing objects: 100% (5/5), 238.37 KiB | 14.02 MiB/s, done.\n",
      "Total 5 (delta 1), reused 0 (delta 0), pack-reused 0\n",
      "remote: Resolving deltas: 100% (1/1), completed with 1 local object.\u001b[K\n",
      "To https://github.com/mferreiracad/technical_challenge_DA\n",
      "   9e90495..8d6e577  master -> master\n"
     ]
    }
   ],
   "source": [
    "!git add .\n",
    "!git status\n",
    "!git commit -m 'ferreira'\n",
    "!git push"
   ]
  },
  {
   "cell_type": "code",
   "execution_count": null,
   "id": "f46eb741",
   "metadata": {},
   "outputs": [],
   "source": []
  }
 ],
 "metadata": {
  "kernelspec": {
   "display_name": "Python 3 (ipykernel)",
   "language": "python",
   "name": "python3"
  },
  "language_info": {
   "codemirror_mode": {
    "name": "ipython",
    "version": 3
   },
   "file_extension": ".py",
   "mimetype": "text/x-python",
   "name": "python",
   "nbconvert_exporter": "python",
   "pygments_lexer": "ipython3",
   "version": "3.9.12"
  },
  "toc": {
   "base_numbering": 1,
   "nav_menu": {},
   "number_sections": false,
   "sideBar": true,
   "skip_h1_title": false,
   "title_cell": "Table of Contents",
   "title_sidebar": "Contents",
   "toc_cell": false,
   "toc_position": {},
   "toc_section_display": true,
   "toc_window_display": false
  }
 },
 "nbformat": 4,
 "nbformat_minor": 5
}
